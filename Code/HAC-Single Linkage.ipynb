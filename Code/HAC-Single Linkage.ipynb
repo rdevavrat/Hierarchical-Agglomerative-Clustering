{
 "cells": [
  {
   "cell_type": "code",
   "execution_count": 1,
   "metadata": {},
   "outputs": [],
   "source": [
    "# Import necessary libraries\n",
    "import numpy as np\n",
    "import pandas as pd\n",
    "import sys\n",
    "from scipy.spatial import distance_matrix\n",
    "import matplotlib.pyplot as plt\n",
    "from sklearn.decomposition import PCA\n",
    "import math"
   ]
  },
  {
   "cell_type": "code",
   "execution_count": 2,
   "metadata": {},
   "outputs": [],
   "source": [
    "# Read input data\n",
    "inputData = pd.read_csv(\"Dataset 1.txt\", sep='\\t', lineterminator='\\n', header=None)"
   ]
  },
  {
   "cell_type": "code",
   "execution_count": 3,
   "metadata": {},
   "outputs": [],
   "source": [
    "# Divide data and ground truth clusters\n",
    "data = inputData[inputData.columns[2:]]\n",
    "groundTruthClusters = inputData[inputData.columns[1:2]]\n",
    "inputData = np.array(inputData)\n",
    "numberOfClusters = 5"
   ]
  },
  {
   "cell_type": "code",
   "execution_count": 4,
   "metadata": {},
   "outputs": [],
   "source": [
    "##################################################################################\n",
    "# Function to perform hierarchical clustering with single linkage(Min approach)\n",
    "##################################################################################\n",
    "def HAC(numberOfClusters,distanceMatrix,inputData,clusterLabelList):\n",
    "    \n",
    "    dataCount = len(inputData)\n",
    "    counter=-1\n",
    "\n",
    "    while counter!=(dataCount-numberOfClusters-1):\n",
    "        \n",
    "        counter=0\n",
    "        val = clusterLabelList.count('NULL')\n",
    "        counter += val\n",
    "      \n",
    "        minimum=(distanceMatrix[distanceMatrix>0]).min()\n",
    "        min_index=np.where(distanceMatrix==minimum)[-1]\n",
    "        x=min_index[-2]\n",
    "        y=min_index[-1]\n",
    "        for i in range(0,dataCount):\n",
    "        # Recompute distance matrix after combining clusters\n",
    "            distanceMatrix[x][i]=min(distanceMatrix[x][i],distanceMatrix[y][i])\n",
    "            distanceMatrix[y][i]= 0     # diagonally mirrored hence redundant value\n",
    "            distanceMatrix[i][x]=min(distanceMatrix[i][x],distanceMatrix[i][y])\n",
    "            distanceMatrix[i][y]= 0\n",
    "    \n",
    "        #combine clusters in map and delete old entry\n",
    "        clusterLabelList[x]=clusterLabelList[x]+','+(clusterLabelList[y])\n",
    "        clusterLabelList[y]=\"NULL\"\n",
    "       \n",
    "    ctr=0\n",
    "    clusters=[]\n",
    "\n",
    "    for i in range(numberOfClusters):\n",
    "        clusters.append([])\n",
    "    for i in range(dataCount):\n",
    "        if clusterLabelList[i]!='NULL':\n",
    "            clusters[ctr].append(clusterLabelList[i])\n",
    "            ctr+=1\n",
    "\n",
    "    finalclusters=[]\n",
    "    for i in range(len(clusters)):\n",
    "        finalclusters.append([])\n",
    "    \n",
    "    for i in range(len(clusters)):    \n",
    "        cluster_set=clusters[i]\n",
    "        temp=[]\n",
    "        for clust in cluster_set:\n",
    "            for pt in clust.split(','):\n",
    "                temp.append(int(pt))\n",
    "        finalclusters[i]=temp  \n",
    "        \n",
    "    clusters=[0]*dataCount\n",
    "    clustername=1\n",
    "    \n",
    "    for labels in finalclusters:\n",
    "        for l in labels:\n",
    "            clusters[l-1]=clustername\n",
    "        clustername+=1\n",
    "        \n",
    "    return clusters"
   ]
  },
  {
   "cell_type": "code",
   "execution_count": 5,
   "metadata": {},
   "outputs": [],
   "source": [
    "# List of clusetring labels\n",
    "clusterLabelList = []\n",
    "for i in range (len(data)):\n",
    "    clusterLabelList.append(str(i+1))"
   ]
  },
  {
   "cell_type": "code",
   "execution_count": 6,
   "metadata": {},
   "outputs": [],
   "source": [
    "# Calculate the distance matrix\n",
    "distanceMatrix = distance_matrix(data,data)"
   ]
  },
  {
   "cell_type": "code",
   "execution_count": 7,
   "metadata": {},
   "outputs": [],
   "source": [
    "clusters=HAC(numberOfClusters,distanceMatrix,inputData,clusterLabelList)"
   ]
  },
  {
   "cell_type": "code",
   "execution_count": 8,
   "metadata": {},
   "outputs": [],
   "source": [
    "#######################################################################\n",
    "# Function to compute and plot PCA\n",
    "#######################################################################\n",
    "def plotPCA(data,labels):\n",
    "    pca = PCA(n_components=2)\n",
    "    data = np.matrix(data.T)\n",
    "    pca.fit(data)\n",
    "    pcaComponents = pca.components_\n",
    "    plt.figure(figsize=(8,8))\n",
    "    pc1 = pcaComponents[0,]\n",
    "    pc2 = pcaComponents[1,]\n",
    "    setOfLabels = list(set(labels))\n",
    "    colours = []\n",
    "    for i in range(len(setOfLabels)):\n",
    "        colours.append(plt.cm.jet(float(i)/max(setOfLabels)))\n",
    "    for i, j in enumerate(setOfLabels):    \n",
    "        x = []\n",
    "        y = []\n",
    "        for p in range(len(pc1)):\n",
    "            if labels[p] == j:\n",
    "                x.append(pc1[p])\n",
    "        for q in range(len(pc1)):\n",
    "            if labels[q] == j:\n",
    "                y.append(pc2[q])\n",
    "        plt.scatter(x, y, c=colours[i], label=str(j))  \n",
    "    plt.legend()\n",
    "    plt.xlabel(\"PC 1\")\n",
    "    plt.ylabel(\"PC 2\")\n",
    "    plt.show()"
   ]
  },
  {
   "cell_type": "code",
   "execution_count": 9,
   "metadata": {},
   "outputs": [
    {
     "name": "stderr",
     "output_type": "stream",
     "text": [
      "'c' argument looks like a single numeric RGB or RGBA sequence, which should be avoided as value-mapping will have precedence in case its length matches with 'x' & 'y'.  Please use a 2-D array with a single row if you really want to specify the same RGB or RGBA value for all points.\n",
      "'c' argument looks like a single numeric RGB or RGBA sequence, which should be avoided as value-mapping will have precedence in case its length matches with 'x' & 'y'.  Please use a 2-D array with a single row if you really want to specify the same RGB or RGBA value for all points.\n",
      "'c' argument looks like a single numeric RGB or RGBA sequence, which should be avoided as value-mapping will have precedence in case its length matches with 'x' & 'y'.  Please use a 2-D array with a single row if you really want to specify the same RGB or RGBA value for all points.\n",
      "'c' argument looks like a single numeric RGB or RGBA sequence, which should be avoided as value-mapping will have precedence in case its length matches with 'x' & 'y'.  Please use a 2-D array with a single row if you really want to specify the same RGB or RGBA value for all points.\n",
      "'c' argument looks like a single numeric RGB or RGBA sequence, which should be avoided as value-mapping will have precedence in case its length matches with 'x' & 'y'.  Please use a 2-D array with a single row if you really want to specify the same RGB or RGBA value for all points.\n"
     ]
    },
    {
     "data": {
      "image/png": "[encoded data removed]",
      "text/plain": [
       "<Figure size 576x576 with 1 Axes>"
      ]
     },
     "metadata": {
      "needs_background": "light"
     },
     "output_type": "display_data"
    }
   ],
   "source": [
    "plotPCA(data.values,clusters)"
   ]
  },
  {
   "cell_type": "code",
   "execution_count": 10,
   "metadata": {},
   "outputs": [],
   "source": [
    "#######################################################################\n",
    "# Function to compute Jaccard coefficient and Rand index\n",
    "#######################################################################\n",
    "def metric(data,groundTruthClusters,output):\n",
    "    m11=0\n",
    "    m10=0\n",
    "    m01=0\n",
    "    m00=0\n",
    "    \n",
    "    for i in range(0,len(data)):\n",
    "        for j in range(1,len(data)):\n",
    "            if((groundTruthClusters.to_numpy())[i] == (groundTruthClusters.to_numpy())[j] and output[i] == output[j]):\n",
    "                m11=m11+1\n",
    "            elif((groundTruthClusters.to_numpy())[i] == (groundTruthClusters.to_numpy())[j] and not (output[i] == output[j])):\n",
    "                m10=m10+1\n",
    "            elif(not((groundTruthClusters.to_numpy())[i] == (groundTruthClusters.to_numpy())[j]) and output[i] == output[j]):\n",
    "                m01=m01+1\n",
    "            elif(not((groundTruthClusters.to_numpy())[i] == (groundTruthClusters.to_numpy())[j]) and not(output[i] == output[j])):\n",
    "                m00=m00+1\n",
    "\n",
    "    jacard_coeff=float(m11)/float((m11+m01+m10))\n",
    "    print(\"jaccard_coefficient: \", jacard_coeff)\n",
    "    rand_index=float((m11+m00))/float((m11+m00+m10+m01))\n",
    "    print(\"rand_index: \", rand_index)"
   ]
  },
  {
   "cell_type": "code",
   "execution_count": 11,
   "metadata": {},
   "outputs": [
    {
     "name": "stdout",
     "output_type": "stream",
     "text": [
      "jaccard_coefficient:  0.22854174782495779\n",
      "rand_index:  0.24043469483883992\n"
     ]
    }
   ],
   "source": [
    "# Compute Jaccard coefficient and Rand index\n",
    "metric(data,groundTruthClusters,clusters)"
   ]
  }
 ],
 "metadata": {
  "kernelspec": {
   "display_name": "Python 3",
   "language": "python",
   "name": "python3"
  },
  "language_info": {
   "codemirror_mode": {
    "name": "ipython",
    "version": 3
   },
   "file_extension": ".py",
   "mimetype": "text/x-python",
   "name": "python",
   "nbconvert_exporter": "python",
   "pygments_lexer": "ipython3",
   "version": "3.7.3"
  }
 },
 "nbformat": 4,
 "nbformat_minor": 2
}
